{
  "nbformat": 4,
  "nbformat_minor": 0,
  "metadata": {
    "colab": {
      "provenance": [],
      "authorship_tag": "ABX9TyNXexlN4+R4OrarmaPJZSVt",
      "include_colab_link": true
    },
    "kernelspec": {
      "name": "python3",
      "display_name": "Python 3"
    },
    "language_info": {
      "name": "python"
    }
  },
  "cells": [
    {
      "cell_type": "markdown",
      "metadata": {
        "id": "view-in-github",
        "colab_type": "text"
      },
      "source": [
        "<a href=\"https://colab.research.google.com/github/NandiniTandon21/CODING-SAMURAI-INTERNSHIP-TASK/blob/main/Handwritten_digi_recognizer.ipynb\" target=\"_parent\"><img src=\"https://colab.research.google.com/assets/colab-badge.svg\" alt=\"Open In Colab\"/></a>"
      ]
    },
    {
      "cell_type": "markdown",
      "source": [
        "Installing dependencies"
      ],
      "metadata": {
        "id": "SANPMwQXUaxu"
      }
    },
    {
      "cell_type": "code",
      "execution_count": null,
      "metadata": {
        "colab": {
          "base_uri": "https://localhost:8080/"
        },
        "id": "iM28R05xT9E8",
        "outputId": "359acc6c-4e37-4292-c2a5-19c5ba743de0"
      },
      "outputs": [
        {
          "output_type": "stream",
          "name": "stdout",
          "text": [
            "Requirement already satisfied: torch in /usr/local/lib/python3.10/dist-packages (2.0.1+cu118)\n",
            "Requirement already satisfied: torchvision in /usr/local/lib/python3.10/dist-packages (0.15.2+cu118)\n",
            "Requirement already satisfied: matplotlib in /usr/local/lib/python3.10/dist-packages (3.7.1)\n",
            "Requirement already satisfied: filelock in /usr/local/lib/python3.10/dist-packages (from torch) (3.12.2)\n",
            "Requirement already satisfied: typing-extensions in /usr/local/lib/python3.10/dist-packages (from torch) (4.5.0)\n",
            "Requirement already satisfied: sympy in /usr/local/lib/python3.10/dist-packages (from torch) (1.12)\n",
            "Requirement already satisfied: networkx in /usr/local/lib/python3.10/dist-packages (from torch) (3.1)\n",
            "Requirement already satisfied: jinja2 in /usr/local/lib/python3.10/dist-packages (from torch) (3.1.2)\n",
            "Requirement already satisfied: triton==2.0.0 in /usr/local/lib/python3.10/dist-packages (from torch) (2.0.0)\n",
            "Requirement already satisfied: cmake in /usr/local/lib/python3.10/dist-packages (from triton==2.0.0->torch) (3.27.4.1)\n",
            "Requirement already satisfied: lit in /usr/local/lib/python3.10/dist-packages (from triton==2.0.0->torch) (16.0.6)\n",
            "Requirement already satisfied: numpy in /usr/local/lib/python3.10/dist-packages (from torchvision) (1.23.5)\n",
            "Requirement already satisfied: requests in /usr/local/lib/python3.10/dist-packages (from torchvision) (2.31.0)\n",
            "Requirement already satisfied: pillow!=8.3.*,>=5.3.0 in /usr/local/lib/python3.10/dist-packages (from torchvision) (9.4.0)\n",
            "Requirement already satisfied: contourpy>=1.0.1 in /usr/local/lib/python3.10/dist-packages (from matplotlib) (1.1.0)\n",
            "Requirement already satisfied: cycler>=0.10 in /usr/local/lib/python3.10/dist-packages (from matplotlib) (0.11.0)\n",
            "Requirement already satisfied: fonttools>=4.22.0 in /usr/local/lib/python3.10/dist-packages (from matplotlib) (4.42.1)\n",
            "Requirement already satisfied: kiwisolver>=1.0.1 in /usr/local/lib/python3.10/dist-packages (from matplotlib) (1.4.5)\n",
            "Requirement already satisfied: packaging>=20.0 in /usr/local/lib/python3.10/dist-packages (from matplotlib) (23.1)\n",
            "Requirement already satisfied: pyparsing>=2.3.1 in /usr/local/lib/python3.10/dist-packages (from matplotlib) (3.1.1)\n",
            "Requirement already satisfied: python-dateutil>=2.7 in /usr/local/lib/python3.10/dist-packages (from matplotlib) (2.8.2)\n",
            "Requirement already satisfied: six>=1.5 in /usr/local/lib/python3.10/dist-packages (from python-dateutil>=2.7->matplotlib) (1.16.0)\n",
            "Requirement already satisfied: MarkupSafe>=2.0 in /usr/local/lib/python3.10/dist-packages (from jinja2->torch) (2.1.3)\n",
            "Requirement already satisfied: charset-normalizer<4,>=2 in /usr/local/lib/python3.10/dist-packages (from requests->torchvision) (3.2.0)\n",
            "Requirement already satisfied: idna<4,>=2.5 in /usr/local/lib/python3.10/dist-packages (from requests->torchvision) (3.4)\n",
            "Requirement already satisfied: urllib3<3,>=1.21.1 in /usr/local/lib/python3.10/dist-packages (from requests->torchvision) (2.0.4)\n",
            "Requirement already satisfied: certifi>=2017.4.17 in /usr/local/lib/python3.10/dist-packages (from requests->torchvision) (2023.7.22)\n",
            "Requirement already satisfied: mpmath>=0.19 in /usr/local/lib/python3.10/dist-packages (from sympy->torch) (1.3.0)\n"
          ]
        }
      ],
      "source": [
        "!pip install torch torchvision matplotlib"
      ]
    },
    {
      "cell_type": "markdown",
      "source": [
        "Load the handwritten dataset - MNIST             \n",
        "Can be done directly from torchvision   \n",
        "Define a dataloader to load this data in batches"
      ],
      "metadata": {
        "id": "BBNMwaQnUjps"
      }
    },
    {
      "cell_type": "code",
      "source": [
        "from torchvision import datasets\n",
        "from torchvision.transforms import ToTensor   #Can take image data and turn into tensors\n",
        "#Tensor - n dimensional matrix"
      ],
      "metadata": {
        "id": "vs_tHjH_USrO"
      },
      "execution_count": null,
      "outputs": []
    },
    {
      "cell_type": "markdown",
      "source": [
        "Load the training and testing data:"
      ],
      "metadata": {
        "id": "5J_hixJNVRHH"
      }
    },
    {
      "cell_type": "code",
      "source": [
        "train_data = datasets.MNIST(\n",
        "    root = 'data',\n",
        "    train = True,\n",
        "    transform = ToTensor(),\n",
        "    download = True                    #Downloads MNIST from the internet\n",
        ")\n",
        "test_data = datasets.MNIST(\n",
        "    root = 'data',\n",
        "    train = False,                     #testing data must not be trained upon\n",
        "    transform = ToTensor(),\n",
        "    download = True                    #Downloads MNIST from the internet\n",
        ")"
      ],
      "metadata": {
        "colab": {
          "base_uri": "https://localhost:8080/"
        },
        "id": "kuheu25zVQar",
        "outputId": "bcdca0c5-7cd2-4e6b-f5c6-f05318d5ca88"
      },
      "execution_count": null,
      "outputs": [
        {
          "output_type": "stream",
          "name": "stdout",
          "text": [
            "Downloading http://yann.lecun.com/exdb/mnist/train-images-idx3-ubyte.gz\n",
            "Downloading http://yann.lecun.com/exdb/mnist/train-images-idx3-ubyte.gz to data/MNIST/raw/train-images-idx3-ubyte.gz\n"
          ]
        },
        {
          "output_type": "stream",
          "name": "stderr",
          "text": [
            "100%|██████████| 9912422/9912422 [00:00<00:00, 81720496.59it/s]\n"
          ]
        },
        {
          "output_type": "stream",
          "name": "stdout",
          "text": [
            "Extracting data/MNIST/raw/train-images-idx3-ubyte.gz to data/MNIST/raw\n",
            "\n",
            "Downloading http://yann.lecun.com/exdb/mnist/train-labels-idx1-ubyte.gz\n",
            "Downloading http://yann.lecun.com/exdb/mnist/train-labels-idx1-ubyte.gz to data/MNIST/raw/train-labels-idx1-ubyte.gz\n"
          ]
        },
        {
          "output_type": "stream",
          "name": "stderr",
          "text": [
            "100%|██████████| 28881/28881 [00:00<00:00, 41641696.06it/s]\n"
          ]
        },
        {
          "output_type": "stream",
          "name": "stdout",
          "text": [
            "Extracting data/MNIST/raw/train-labels-idx1-ubyte.gz to data/MNIST/raw\n",
            "\n",
            "Downloading http://yann.lecun.com/exdb/mnist/t10k-images-idx3-ubyte.gz\n",
            "Downloading http://yann.lecun.com/exdb/mnist/t10k-images-idx3-ubyte.gz to data/MNIST/raw/t10k-images-idx3-ubyte.gz\n"
          ]
        },
        {
          "output_type": "stream",
          "name": "stderr",
          "text": [
            "100%|██████████| 1648877/1648877 [00:00<00:00, 32333416.22it/s]\n"
          ]
        },
        {
          "output_type": "stream",
          "name": "stdout",
          "text": [
            "Extracting data/MNIST/raw/t10k-images-idx3-ubyte.gz to data/MNIST/raw\n",
            "\n",
            "Downloading http://yann.lecun.com/exdb/mnist/t10k-labels-idx1-ubyte.gz\n",
            "Downloading http://yann.lecun.com/exdb/mnist/t10k-labels-idx1-ubyte.gz to data/MNIST/raw/t10k-labels-idx1-ubyte.gz\n"
          ]
        },
        {
          "output_type": "stream",
          "name": "stderr",
          "text": [
            "100%|██████████| 4542/4542 [00:00<00:00, 7251819.10it/s]\n"
          ]
        },
        {
          "output_type": "stream",
          "name": "stdout",
          "text": [
            "Extracting data/MNIST/raw/t10k-labels-idx1-ubyte.gz to data/MNIST/raw\n",
            "\n"
          ]
        }
      ]
    },
    {
      "cell_type": "code",
      "source": [
        "train_data"
      ],
      "metadata": {
        "colab": {
          "base_uri": "https://localhost:8080/"
        },
        "id": "ThCuj8r9Vu4V",
        "outputId": "7a39d6d4-1c94-4988-c248-c2f0e9b5bd05"
      },
      "execution_count": null,
      "outputs": [
        {
          "output_type": "execute_result",
          "data": {
            "text/plain": [
              "Dataset MNIST\n",
              "    Number of datapoints: 60000\n",
              "    Root location: data\n",
              "    Split: Train\n",
              "    StandardTransform\n",
              "Transform: ToTensor()"
            ]
          },
          "metadata": {},
          "execution_count": 4
        }
      ]
    },
    {
      "cell_type": "code",
      "source": [
        "test_data"
      ],
      "metadata": {
        "colab": {
          "base_uri": "https://localhost:8080/"
        },
        "id": "GQOTNW0rVyVE",
        "outputId": "38643714-817c-429d-a62c-449b8b02f8df"
      },
      "execution_count": null,
      "outputs": [
        {
          "output_type": "execute_result",
          "data": {
            "text/plain": [
              "Dataset MNIST\n",
              "    Number of datapoints: 10000\n",
              "    Root location: data\n",
              "    Split: Test\n",
              "    StandardTransform\n",
              "Transform: ToTensor()"
            ]
          },
          "metadata": {},
          "execution_count": 5
        }
      ]
    },
    {
      "cell_type": "code",
      "source": [
        "train_data.data               #To get the data itself"
      ],
      "metadata": {
        "colab": {
          "base_uri": "https://localhost:8080/"
        },
        "id": "MG0hgd8kWCf9",
        "outputId": "52dc42dc-0906-423f-b94a-2110afef5fc9"
      },
      "execution_count": null,
      "outputs": [
        {
          "output_type": "execute_result",
          "data": {
            "text/plain": [
              "tensor([[[0, 0, 0,  ..., 0, 0, 0],\n",
              "         [0, 0, 0,  ..., 0, 0, 0],\n",
              "         [0, 0, 0,  ..., 0, 0, 0],\n",
              "         ...,\n",
              "         [0, 0, 0,  ..., 0, 0, 0],\n",
              "         [0, 0, 0,  ..., 0, 0, 0],\n",
              "         [0, 0, 0,  ..., 0, 0, 0]],\n",
              "\n",
              "        [[0, 0, 0,  ..., 0, 0, 0],\n",
              "         [0, 0, 0,  ..., 0, 0, 0],\n",
              "         [0, 0, 0,  ..., 0, 0, 0],\n",
              "         ...,\n",
              "         [0, 0, 0,  ..., 0, 0, 0],\n",
              "         [0, 0, 0,  ..., 0, 0, 0],\n",
              "         [0, 0, 0,  ..., 0, 0, 0]],\n",
              "\n",
              "        [[0, 0, 0,  ..., 0, 0, 0],\n",
              "         [0, 0, 0,  ..., 0, 0, 0],\n",
              "         [0, 0, 0,  ..., 0, 0, 0],\n",
              "         ...,\n",
              "         [0, 0, 0,  ..., 0, 0, 0],\n",
              "         [0, 0, 0,  ..., 0, 0, 0],\n",
              "         [0, 0, 0,  ..., 0, 0, 0]],\n",
              "\n",
              "        ...,\n",
              "\n",
              "        [[0, 0, 0,  ..., 0, 0, 0],\n",
              "         [0, 0, 0,  ..., 0, 0, 0],\n",
              "         [0, 0, 0,  ..., 0, 0, 0],\n",
              "         ...,\n",
              "         [0, 0, 0,  ..., 0, 0, 0],\n",
              "         [0, 0, 0,  ..., 0, 0, 0],\n",
              "         [0, 0, 0,  ..., 0, 0, 0]],\n",
              "\n",
              "        [[0, 0, 0,  ..., 0, 0, 0],\n",
              "         [0, 0, 0,  ..., 0, 0, 0],\n",
              "         [0, 0, 0,  ..., 0, 0, 0],\n",
              "         ...,\n",
              "         [0, 0, 0,  ..., 0, 0, 0],\n",
              "         [0, 0, 0,  ..., 0, 0, 0],\n",
              "         [0, 0, 0,  ..., 0, 0, 0]],\n",
              "\n",
              "        [[0, 0, 0,  ..., 0, 0, 0],\n",
              "         [0, 0, 0,  ..., 0, 0, 0],\n",
              "         [0, 0, 0,  ..., 0, 0, 0],\n",
              "         ...,\n",
              "         [0, 0, 0,  ..., 0, 0, 0],\n",
              "         [0, 0, 0,  ..., 0, 0, 0],\n",
              "         [0, 0, 0,  ..., 0, 0, 0]]], dtype=torch.uint8)"
            ]
          },
          "metadata": {},
          "execution_count": 6
        }
      ]
    },
    {
      "cell_type": "code",
      "source": [
        "train_data.data.shape        #shape and calling size() as an attribute the same thing"
      ],
      "metadata": {
        "colab": {
          "base_uri": "https://localhost:8080/"
        },
        "id": "i0h1aGUFWHN_",
        "outputId": "367c0a02-04b7-481f-fd83-889b56015ab1"
      },
      "execution_count": null,
      "outputs": [
        {
          "output_type": "execute_result",
          "data": {
            "text/plain": [
              "torch.Size([60000, 28, 28])"
            ]
          },
          "metadata": {},
          "execution_count": 7
        }
      ]
    },
    {
      "cell_type": "code",
      "source": [
        "test_data.data.size()"
      ],
      "metadata": {
        "colab": {
          "base_uri": "https://localhost:8080/"
        },
        "id": "cPnF_4hCWKK7",
        "outputId": "b6e2c088-f727-4d0e-8f56-46276020e120"
      },
      "execution_count": null,
      "outputs": [
        {
          "output_type": "execute_result",
          "data": {
            "text/plain": [
              "torch.Size([10000, 28, 28])"
            ]
          },
          "metadata": {},
          "execution_count": 8
        }
      ]
    },
    {
      "cell_type": "code",
      "source": [
        "train_data.targets.size()                 #"
      ],
      "metadata": {
        "colab": {
          "base_uri": "https://localhost:8080/"
        },
        "id": "7-CdOwJBWVVz",
        "outputId": "9a49a80d-6e01-4091-f58a-19f5c5b3c5a5"
      },
      "execution_count": null,
      "outputs": [
        {
          "output_type": "execute_result",
          "data": {
            "text/plain": [
              "torch.Size([60000])"
            ]
          },
          "metadata": {},
          "execution_count": 12
        }
      ]
    },
    {
      "cell_type": "code",
      "source": [
        "train_data.targets          #different class"
      ],
      "metadata": {
        "colab": {
          "base_uri": "https://localhost:8080/"
        },
        "id": "rutLwXRGWaOS",
        "outputId": "3b8ca270-cae8-4966-ebac-f8829a23856f"
      },
      "execution_count": null,
      "outputs": [
        {
          "output_type": "execute_result",
          "data": {
            "text/plain": [
              "tensor([5, 0, 4,  ..., 5, 6, 8])"
            ]
          },
          "metadata": {},
          "execution_count": 11
        }
      ]
    },
    {
      "cell_type": "markdown",
      "source": [
        "Work with data in batches - define a Dataloader"
      ],
      "metadata": {
        "id": "nYqOX8POaZv_"
      }
    },
    {
      "cell_type": "code",
      "source": [
        "from torch.utils.data import DataLoader\n",
        "\n",
        "loaders = {\n",
        "    'train' : DataLoader(train_data,\n",
        "                         batch_size=100,\n",
        "                         shuffle=True,\n",
        "                         num_workers=1),\n",
        "\n",
        "    'test' : DataLoader(test_data,\n",
        "                         batch_size=100,\n",
        "                         shuffle=True,\n",
        "                         num_workers=1)\n",
        "}"
      ],
      "metadata": {
        "id": "cfPrsZBGaWv3"
      },
      "execution_count": null,
      "outputs": []
    },
    {
      "cell_type": "code",
      "source": [
        "loaders"
      ],
      "metadata": {
        "colab": {
          "base_uri": "https://localhost:8080/"
        },
        "id": "8i1Ycicca_je",
        "outputId": "a54df4d9-902d-4f16-c802-f3fa5550e810"
      },
      "execution_count": null,
      "outputs": [
        {
          "output_type": "execute_result",
          "data": {
            "text/plain": [
              "{'train': <torch.utils.data.dataloader.DataLoader at 0x7a3c1687ebc0>,\n",
              " 'test': <torch.utils.data.dataloader.DataLoader at 0x7a3c1687f760>}"
            ]
          },
          "metadata": {},
          "execution_count": 14
        }
      ]
    },
    {
      "cell_type": "markdown",
      "source": [
        "Defining Model Architecture - Deep learning/ Neural network structure:"
      ],
      "metadata": {
        "id": "J5M8X-mZbDfz"
      }
    },
    {
      "cell_type": "code",
      "source": [
        "import torch.nn as nn\n",
        "import torch.nn.functional as F\n",
        "import torch.optim as optim          #Optimizer\n",
        "\n",
        "#CNN- Convulational Neural Network\n",
        "class CNN(nn.Module):\n",
        "  def __init__(self):\n",
        "    super(CNN, self).__init__()\n",
        "\n",
        "\n",
        "    self.conv1 = nn.Conv2d(1, 10, kernel_size=5)\n",
        "    self.conv2 = nn.Conv2d(10, 20, kernel_size=5)\n",
        "    self.conv2_drop = nn.Dropout2d()\n",
        "    self.fc1 = nn.Linear(320, 50)\n",
        "    self.fc2 = nn.Linear(50, 10)\n",
        "\n",
        "  def forward(self, x):\n",
        "    x = F.relu(F.max_pool2d(self.conv1(x), 2))\n",
        "    x = F.relu(F.max_pool2d(self.conv2_drop(self.conv2(x)), 2))\n",
        "    x = x.view(-1, 320)\n",
        "    x = F.relu(self.fc1(x))\n",
        "    x = F.dropout(x, training=self.training)\n",
        "    x = self.fc2(x)\n",
        "\n",
        "    return F.softmax(x)"
      ],
      "metadata": {
        "id": "CRnpPJXlbBn9"
      },
      "execution_count": null,
      "outputs": []
    },
    {
      "cell_type": "markdown",
      "source": [
        "Optimising and training:"
      ],
      "metadata": {
        "id": "LPlHRUHLfBr2"
      }
    },
    {
      "cell_type": "code",
      "source": [
        "import torch\n",
        "\n",
        "device = torch.device('cuda' if torch.cuda.is_available() else 'cpu')\n",
        "\n",
        "model = CNN().to(device)\n",
        "\n",
        "optimizer = optim.Adam(model.parameters(), lr=0.001)\n",
        "\n",
        "loss_fn = nn.CrossEntropyLoss()\n",
        "\n",
        "def train(epoch):\n",
        "  model.train()\n",
        "  for batch_idx, (data, target) in enumerate(loaders['train']):\n",
        "    data, target = data.to(device), target.to(device)\n",
        "    optimizer.zero_grad()\n",
        "    output = model(data)\n",
        "    loss = loss_fn(output, target)\n",
        "    loss.backward()\n",
        "    optimizer.step()\n",
        "    if batch_idx % 20 == 0:\n",
        "      print(f'Train Epoch: {epoch} [{batch_idx * len(data)}/{len(loaders[\"train\"].dataset)} ({100. *batch_idx / len(loaders[\"train\"]):.0f}%)]\\t{loss.item():.6f}')\n",
        "\n",
        "def test():\n",
        "  model.eval()\n",
        "  test_loss=0\n",
        "  correct = 0\n",
        "\n",
        "  with torch.no_grad():\n",
        "    for data, target in loaders['test']:\n",
        "      data, target = data.to(device), target.to(device)\n",
        "      output = model(data)\n",
        "      test_loss += loss_fn(output, target).item()\n",
        "      pred = output.argmax(dim=1, keepdim=True)\n",
        "      correct += pred.eq(target.view_as(pred)).sum().item()\n",
        "\n",
        "    test_loss /= len(loaders['test'].dataset)\n",
        "    print(f'\\nTest set: Average loss: {test_loss:.4f}, Accuracy {correct}/{len(loaders[\"test\"].dataset)} ({100. * correct/ len(loaders[\"test\"].dataset):.0f}%\\n)')"
      ],
      "metadata": {
        "id": "lm-SFiRte_0n"
      },
      "execution_count": null,
      "outputs": []
    },
    {
      "cell_type": "code",
      "source": [
        "for epoch in range(1,11):\n",
        "  train(epoch)\n",
        "  test()"
      ],
      "metadata": {
        "colab": {
          "base_uri": "https://localhost:8080/"
        },
        "id": "fIxAN8vBjyly",
        "outputId": "297348ee-accb-4dcb-ff65-57a892ebedd2"
      },
      "execution_count": null,
      "outputs": [
        {
          "output_type": "stream",
          "name": "stderr",
          "text": [
            "<ipython-input-20-9cdf8ea09792>:25: UserWarning: Implicit dimension choice for softmax has been deprecated. Change the call to include dim=X as an argument.\n",
            "  return F.softmax(x)\n"
          ]
        },
        {
          "output_type": "stream",
          "name": "stdout",
          "text": [
            "Train Epoch: 1 [0/60000 (0%)]\t2.303312\n",
            "Train Epoch: 1 [2000/60000 (3%)]\t2.284299\n",
            "Train Epoch: 1 [4000/60000 (7%)]\t2.194624\n",
            "Train Epoch: 1 [6000/60000 (10%)]\t2.048878\n",
            "Train Epoch: 1 [8000/60000 (13%)]\t1.961316\n",
            "Train Epoch: 1 [10000/60000 (17%)]\t1.917051\n",
            "Train Epoch: 1 [12000/60000 (20%)]\t1.774828\n",
            "Train Epoch: 1 [14000/60000 (23%)]\t1.765556\n",
            "Train Epoch: 1 [16000/60000 (27%)]\t1.782544\n",
            "Train Epoch: 1 [18000/60000 (30%)]\t1.686157\n",
            "Train Epoch: 1 [20000/60000 (33%)]\t1.711752\n",
            "Train Epoch: 1 [22000/60000 (37%)]\t1.694584\n",
            "Train Epoch: 1 [24000/60000 (40%)]\t1.716790\n",
            "Train Epoch: 1 [26000/60000 (43%)]\t1.707341\n",
            "Train Epoch: 1 [28000/60000 (47%)]\t1.682232\n",
            "Train Epoch: 1 [30000/60000 (50%)]\t1.700957\n",
            "Train Epoch: 1 [32000/60000 (53%)]\t1.647217\n",
            "Train Epoch: 1 [34000/60000 (57%)]\t1.663023\n",
            "Train Epoch: 1 [36000/60000 (60%)]\t1.623253\n",
            "Train Epoch: 1 [38000/60000 (63%)]\t1.639508\n",
            "Train Epoch: 1 [40000/60000 (67%)]\t1.607870\n",
            "Train Epoch: 1 [42000/60000 (70%)]\t1.674294\n",
            "Train Epoch: 1 [44000/60000 (73%)]\t1.665050\n",
            "Train Epoch: 1 [46000/60000 (77%)]\t1.620559\n",
            "Train Epoch: 1 [48000/60000 (80%)]\t1.700605\n",
            "Train Epoch: 1 [50000/60000 (83%)]\t1.632342\n",
            "Train Epoch: 1 [52000/60000 (87%)]\t1.570297\n",
            "Train Epoch: 1 [54000/60000 (90%)]\t1.572658\n",
            "Train Epoch: 1 [56000/60000 (93%)]\t1.623940\n",
            "Train Epoch: 1 [58000/60000 (97%)]\t1.636985\n",
            "\n",
            "Test set: Average loss: 0.0155, Accuracy 9178/10000 (92%\n",
            ")\n",
            "Train Epoch: 2 [0/60000 (0%)]\t1.659068\n",
            "Train Epoch: 2 [2000/60000 (3%)]\t1.593473\n",
            "Train Epoch: 2 [4000/60000 (7%)]\t1.596100\n",
            "Train Epoch: 2 [6000/60000 (10%)]\t1.621359\n",
            "Train Epoch: 2 [8000/60000 (13%)]\t1.640979\n",
            "Train Epoch: 2 [10000/60000 (17%)]\t1.632380\n",
            "Train Epoch: 2 [12000/60000 (20%)]\t1.636106\n",
            "Train Epoch: 2 [14000/60000 (23%)]\t1.706616\n",
            "Train Epoch: 2 [16000/60000 (27%)]\t1.599061\n",
            "Train Epoch: 2 [18000/60000 (30%)]\t1.609172\n",
            "Train Epoch: 2 [20000/60000 (33%)]\t1.597030\n",
            "Train Epoch: 2 [22000/60000 (37%)]\t1.605022\n",
            "Train Epoch: 2 [24000/60000 (40%)]\t1.534778\n",
            "Train Epoch: 2 [26000/60000 (43%)]\t1.587473\n",
            "Train Epoch: 2 [28000/60000 (47%)]\t1.608007\n",
            "Train Epoch: 2 [30000/60000 (50%)]\t1.620158\n",
            "Train Epoch: 2 [32000/60000 (53%)]\t1.526054\n",
            "Train Epoch: 2 [34000/60000 (57%)]\t1.603897\n",
            "Train Epoch: 2 [36000/60000 (60%)]\t1.632835\n",
            "Train Epoch: 2 [38000/60000 (63%)]\t1.605412\n",
            "Train Epoch: 2 [40000/60000 (67%)]\t1.586193\n",
            "Train Epoch: 2 [42000/60000 (70%)]\t1.541166\n",
            "Train Epoch: 2 [44000/60000 (73%)]\t1.571418\n",
            "Train Epoch: 2 [46000/60000 (77%)]\t1.538470\n",
            "Train Epoch: 2 [48000/60000 (80%)]\t1.639270\n",
            "Train Epoch: 2 [50000/60000 (83%)]\t1.573140\n",
            "Train Epoch: 2 [52000/60000 (87%)]\t1.588680\n",
            "Train Epoch: 2 [54000/60000 (90%)]\t1.593977\n",
            "Train Epoch: 2 [56000/60000 (93%)]\t1.574822\n",
            "Train Epoch: 2 [58000/60000 (97%)]\t1.576278\n",
            "\n",
            "Test set: Average loss: 0.0152, Accuracy 9401/10000 (94%\n",
            ")\n",
            "Train Epoch: 3 [0/60000 (0%)]\t1.590673\n",
            "Train Epoch: 3 [2000/60000 (3%)]\t1.616758\n",
            "Train Epoch: 3 [4000/60000 (7%)]\t1.572805\n",
            "Train Epoch: 3 [6000/60000 (10%)]\t1.615037\n",
            "Train Epoch: 3 [8000/60000 (13%)]\t1.615988\n",
            "Train Epoch: 3 [10000/60000 (17%)]\t1.602551\n",
            "Train Epoch: 3 [12000/60000 (20%)]\t1.566274\n",
            "Train Epoch: 3 [14000/60000 (23%)]\t1.584982\n",
            "Train Epoch: 3 [16000/60000 (27%)]\t1.547235\n",
            "Train Epoch: 3 [18000/60000 (30%)]\t1.570251\n",
            "Train Epoch: 3 [20000/60000 (33%)]\t1.584347\n",
            "Train Epoch: 3 [22000/60000 (37%)]\t1.565870\n",
            "Train Epoch: 3 [24000/60000 (40%)]\t1.585811\n",
            "Train Epoch: 3 [26000/60000 (43%)]\t1.578274\n",
            "Train Epoch: 3 [28000/60000 (47%)]\t1.621346\n",
            "Train Epoch: 3 [30000/60000 (50%)]\t1.612683\n",
            "Train Epoch: 3 [32000/60000 (53%)]\t1.575815\n",
            "Train Epoch: 3 [34000/60000 (57%)]\t1.605615\n",
            "Train Epoch: 3 [36000/60000 (60%)]\t1.569702\n",
            "Train Epoch: 3 [38000/60000 (63%)]\t1.609718\n",
            "Train Epoch: 3 [40000/60000 (67%)]\t1.543216\n",
            "Train Epoch: 3 [42000/60000 (70%)]\t1.611250\n",
            "Train Epoch: 3 [44000/60000 (73%)]\t1.595079\n",
            "Train Epoch: 3 [46000/60000 (77%)]\t1.567478\n",
            "Train Epoch: 3 [48000/60000 (80%)]\t1.585804\n",
            "Train Epoch: 3 [50000/60000 (83%)]\t1.575458\n",
            "Train Epoch: 3 [52000/60000 (87%)]\t1.530436\n",
            "Train Epoch: 3 [54000/60000 (90%)]\t1.558590\n",
            "Train Epoch: 3 [56000/60000 (93%)]\t1.523849\n",
            "Train Epoch: 3 [58000/60000 (97%)]\t1.532365\n",
            "\n",
            "Test set: Average loss: 0.0151, Accuracy 9466/10000 (95%\n",
            ")\n",
            "Train Epoch: 4 [0/60000 (0%)]\t1.557393\n",
            "Train Epoch: 4 [2000/60000 (3%)]\t1.553566\n",
            "Train Epoch: 4 [4000/60000 (7%)]\t1.589044\n",
            "Train Epoch: 4 [6000/60000 (10%)]\t1.541777\n",
            "Train Epoch: 4 [8000/60000 (13%)]\t1.532283\n",
            "Train Epoch: 4 [10000/60000 (17%)]\t1.617257\n",
            "Train Epoch: 4 [12000/60000 (20%)]\t1.614615\n",
            "Train Epoch: 4 [14000/60000 (23%)]\t1.551524\n",
            "Train Epoch: 4 [16000/60000 (27%)]\t1.534060\n",
            "Train Epoch: 4 [18000/60000 (30%)]\t1.566439\n",
            "Train Epoch: 4 [20000/60000 (33%)]\t1.583162\n",
            "Train Epoch: 4 [22000/60000 (37%)]\t1.556938\n",
            "Train Epoch: 4 [24000/60000 (40%)]\t1.601399\n",
            "Train Epoch: 4 [26000/60000 (43%)]\t1.616269\n",
            "Train Epoch: 4 [28000/60000 (47%)]\t1.531030\n",
            "Train Epoch: 4 [30000/60000 (50%)]\t1.566340\n",
            "Train Epoch: 4 [32000/60000 (53%)]\t1.562407\n",
            "Train Epoch: 4 [34000/60000 (57%)]\t1.607447\n",
            "Train Epoch: 4 [36000/60000 (60%)]\t1.580178\n",
            "Train Epoch: 4 [38000/60000 (63%)]\t1.565125\n",
            "Train Epoch: 4 [40000/60000 (67%)]\t1.580945\n",
            "Train Epoch: 4 [42000/60000 (70%)]\t1.542968\n",
            "Train Epoch: 4 [44000/60000 (73%)]\t1.556482\n",
            "Train Epoch: 4 [46000/60000 (77%)]\t1.598841\n",
            "Train Epoch: 4 [48000/60000 (80%)]\t1.553869\n",
            "Train Epoch: 4 [50000/60000 (83%)]\t1.508878\n",
            "Train Epoch: 4 [52000/60000 (87%)]\t1.559049\n",
            "Train Epoch: 4 [54000/60000 (90%)]\t1.603273\n",
            "Train Epoch: 4 [56000/60000 (93%)]\t1.589517\n",
            "Train Epoch: 4 [58000/60000 (97%)]\t1.569741\n",
            "\n",
            "Test set: Average loss: 0.0151, Accuracy 9543/10000 (95%\n",
            ")\n",
            "Train Epoch: 5 [0/60000 (0%)]\t1.584201\n",
            "Train Epoch: 5 [2000/60000 (3%)]\t1.527854\n",
            "Train Epoch: 5 [4000/60000 (7%)]\t1.595401\n",
            "Train Epoch: 5 [6000/60000 (10%)]\t1.513962\n",
            "Train Epoch: 5 [8000/60000 (13%)]\t1.550842\n",
            "Train Epoch: 5 [10000/60000 (17%)]\t1.556386\n",
            "Train Epoch: 5 [12000/60000 (20%)]\t1.561530\n",
            "Train Epoch: 5 [14000/60000 (23%)]\t1.530396\n",
            "Train Epoch: 5 [16000/60000 (27%)]\t1.564086\n",
            "Train Epoch: 5 [18000/60000 (30%)]\t1.523959\n",
            "Train Epoch: 5 [20000/60000 (33%)]\t1.537367\n",
            "Train Epoch: 5 [22000/60000 (37%)]\t1.571706\n",
            "Train Epoch: 5 [24000/60000 (40%)]\t1.555249\n",
            "Train Epoch: 5 [26000/60000 (43%)]\t1.609905\n",
            "Train Epoch: 5 [28000/60000 (47%)]\t1.548146\n",
            "Train Epoch: 5 [30000/60000 (50%)]\t1.560277\n",
            "Train Epoch: 5 [32000/60000 (53%)]\t1.573401\n",
            "Train Epoch: 5 [34000/60000 (57%)]\t1.540019\n",
            "Train Epoch: 5 [36000/60000 (60%)]\t1.580156\n",
            "Train Epoch: 5 [38000/60000 (63%)]\t1.536215\n",
            "Train Epoch: 5 [40000/60000 (67%)]\t1.607738\n",
            "Train Epoch: 5 [42000/60000 (70%)]\t1.499376\n",
            "Train Epoch: 5 [44000/60000 (73%)]\t1.576780\n",
            "Train Epoch: 5 [46000/60000 (77%)]\t1.597787\n",
            "Train Epoch: 5 [48000/60000 (80%)]\t1.552367\n",
            "Train Epoch: 5 [50000/60000 (83%)]\t1.588066\n",
            "Train Epoch: 5 [52000/60000 (87%)]\t1.568436\n",
            "Train Epoch: 5 [54000/60000 (90%)]\t1.538842\n",
            "Train Epoch: 5 [56000/60000 (93%)]\t1.567545\n",
            "Train Epoch: 5 [58000/60000 (97%)]\t1.562554\n",
            "\n",
            "Test set: Average loss: 0.0150, Accuracy 9578/10000 (96%\n",
            ")\n",
            "Train Epoch: 6 [0/60000 (0%)]\t1.597081\n",
            "Train Epoch: 6 [2000/60000 (3%)]\t1.551324\n",
            "Train Epoch: 6 [4000/60000 (7%)]\t1.572791\n",
            "Train Epoch: 6 [6000/60000 (10%)]\t1.571017\n",
            "Train Epoch: 6 [8000/60000 (13%)]\t1.526946\n",
            "Train Epoch: 6 [10000/60000 (17%)]\t1.579244\n",
            "Train Epoch: 6 [12000/60000 (20%)]\t1.554237\n",
            "Train Epoch: 6 [14000/60000 (23%)]\t1.580691\n",
            "Train Epoch: 6 [16000/60000 (27%)]\t1.499634\n",
            "Train Epoch: 6 [18000/60000 (30%)]\t1.542441\n",
            "Train Epoch: 6 [20000/60000 (33%)]\t1.527686\n",
            "Train Epoch: 6 [22000/60000 (37%)]\t1.590547\n",
            "Train Epoch: 6 [24000/60000 (40%)]\t1.538316\n",
            "Train Epoch: 6 [26000/60000 (43%)]\t1.555653\n",
            "Train Epoch: 6 [28000/60000 (47%)]\t1.566681\n",
            "Train Epoch: 6 [30000/60000 (50%)]\t1.581217\n",
            "Train Epoch: 6 [32000/60000 (53%)]\t1.519694\n",
            "Train Epoch: 6 [34000/60000 (57%)]\t1.591258\n",
            "Train Epoch: 6 [36000/60000 (60%)]\t1.523907\n",
            "Train Epoch: 6 [38000/60000 (63%)]\t1.524090\n",
            "Train Epoch: 6 [40000/60000 (67%)]\t1.577883\n",
            "Train Epoch: 6 [42000/60000 (70%)]\t1.510653\n",
            "Train Epoch: 6 [44000/60000 (73%)]\t1.545483\n",
            "Train Epoch: 6 [46000/60000 (77%)]\t1.517718\n",
            "Train Epoch: 6 [48000/60000 (80%)]\t1.534911\n",
            "Train Epoch: 6 [50000/60000 (83%)]\t1.544623\n",
            "Train Epoch: 6 [52000/60000 (87%)]\t1.563073\n",
            "Train Epoch: 6 [54000/60000 (90%)]\t1.577513\n",
            "Train Epoch: 6 [56000/60000 (93%)]\t1.518318\n",
            "Train Epoch: 6 [58000/60000 (97%)]\t1.572306\n",
            "\n",
            "Test set: Average loss: 0.0150, Accuracy 9612/10000 (96%\n",
            ")\n",
            "Train Epoch: 7 [0/60000 (0%)]\t1.544177\n",
            "Train Epoch: 7 [2000/60000 (3%)]\t1.628099\n",
            "Train Epoch: 7 [4000/60000 (7%)]\t1.542744\n",
            "Train Epoch: 7 [6000/60000 (10%)]\t1.533951\n",
            "Train Epoch: 7 [8000/60000 (13%)]\t1.554306\n",
            "Train Epoch: 7 [10000/60000 (17%)]\t1.538505\n",
            "Train Epoch: 7 [12000/60000 (20%)]\t1.548447\n",
            "Train Epoch: 7 [14000/60000 (23%)]\t1.551499\n",
            "Train Epoch: 7 [16000/60000 (27%)]\t1.567637\n",
            "Train Epoch: 7 [18000/60000 (30%)]\t1.538729\n",
            "Train Epoch: 7 [20000/60000 (33%)]\t1.555331\n",
            "Train Epoch: 7 [22000/60000 (37%)]\t1.554244\n",
            "Train Epoch: 7 [24000/60000 (40%)]\t1.530405\n",
            "Train Epoch: 7 [26000/60000 (43%)]\t1.556045\n",
            "Train Epoch: 7 [28000/60000 (47%)]\t1.567631\n",
            "Train Epoch: 7 [30000/60000 (50%)]\t1.542275\n",
            "Train Epoch: 7 [32000/60000 (53%)]\t1.559030\n",
            "Train Epoch: 7 [34000/60000 (57%)]\t1.531317\n",
            "Train Epoch: 7 [36000/60000 (60%)]\t1.506756\n",
            "Train Epoch: 7 [38000/60000 (63%)]\t1.569671\n",
            "Train Epoch: 7 [40000/60000 (67%)]\t1.553703\n",
            "Train Epoch: 7 [42000/60000 (70%)]\t1.546696\n",
            "Train Epoch: 7 [44000/60000 (73%)]\t1.552296\n",
            "Train Epoch: 7 [46000/60000 (77%)]\t1.509715\n",
            "Train Epoch: 7 [48000/60000 (80%)]\t1.534921\n",
            "Train Epoch: 7 [50000/60000 (83%)]\t1.519317\n",
            "Train Epoch: 7 [52000/60000 (87%)]\t1.537111\n",
            "Train Epoch: 7 [54000/60000 (90%)]\t1.543142\n",
            "Train Epoch: 7 [56000/60000 (93%)]\t1.521122\n",
            "Train Epoch: 7 [58000/60000 (97%)]\t1.536451\n",
            "\n",
            "Test set: Average loss: 0.0150, Accuracy 9628/10000 (96%\n",
            ")\n",
            "Train Epoch: 8 [0/60000 (0%)]\t1.590346\n",
            "Train Epoch: 8 [2000/60000 (3%)]\t1.550623\n",
            "Train Epoch: 8 [4000/60000 (7%)]\t1.563394\n",
            "Train Epoch: 8 [6000/60000 (10%)]\t1.615522\n",
            "Train Epoch: 8 [8000/60000 (13%)]\t1.516395\n",
            "Train Epoch: 8 [10000/60000 (17%)]\t1.482939\n",
            "Train Epoch: 8 [12000/60000 (20%)]\t1.512523\n",
            "Train Epoch: 8 [14000/60000 (23%)]\t1.534988\n",
            "Train Epoch: 8 [16000/60000 (27%)]\t1.544673\n",
            "Train Epoch: 8 [18000/60000 (30%)]\t1.543317\n",
            "Train Epoch: 8 [20000/60000 (33%)]\t1.543267\n",
            "Train Epoch: 8 [22000/60000 (37%)]\t1.518050\n",
            "Train Epoch: 8 [24000/60000 (40%)]\t1.531278\n",
            "Train Epoch: 8 [26000/60000 (43%)]\t1.541847\n",
            "Train Epoch: 8 [28000/60000 (47%)]\t1.576473\n",
            "Train Epoch: 8 [30000/60000 (50%)]\t1.497046\n",
            "Train Epoch: 8 [32000/60000 (53%)]\t1.540078\n",
            "Train Epoch: 8 [34000/60000 (57%)]\t1.526937\n",
            "Train Epoch: 8 [36000/60000 (60%)]\t1.524626\n",
            "Train Epoch: 8 [38000/60000 (63%)]\t1.529185\n",
            "Train Epoch: 8 [40000/60000 (67%)]\t1.496953\n",
            "Train Epoch: 8 [42000/60000 (70%)]\t1.567584\n",
            "Train Epoch: 8 [44000/60000 (73%)]\t1.536666\n",
            "Train Epoch: 8 [46000/60000 (77%)]\t1.545753\n",
            "Train Epoch: 8 [48000/60000 (80%)]\t1.525939\n",
            "Train Epoch: 8 [50000/60000 (83%)]\t1.534290\n",
            "Train Epoch: 8 [52000/60000 (87%)]\t1.539163\n",
            "Train Epoch: 8 [54000/60000 (90%)]\t1.498561\n",
            "Train Epoch: 8 [56000/60000 (93%)]\t1.507796\n",
            "Train Epoch: 8 [58000/60000 (97%)]\t1.503523\n",
            "\n",
            "Test set: Average loss: 0.0150, Accuracy 9659/10000 (97%\n",
            ")\n",
            "Train Epoch: 9 [0/60000 (0%)]\t1.580844\n",
            "Train Epoch: 9 [2000/60000 (3%)]\t1.555967\n",
            "Train Epoch: 9 [4000/60000 (7%)]\t1.543482\n",
            "Train Epoch: 9 [6000/60000 (10%)]\t1.607657\n",
            "Train Epoch: 9 [8000/60000 (13%)]\t1.516181\n",
            "Train Epoch: 9 [10000/60000 (17%)]\t1.508296\n",
            "Train Epoch: 9 [12000/60000 (20%)]\t1.564840\n",
            "Train Epoch: 9 [14000/60000 (23%)]\t1.500877\n",
            "Train Epoch: 9 [16000/60000 (27%)]\t1.554748\n",
            "Train Epoch: 9 [18000/60000 (30%)]\t1.514046\n",
            "Train Epoch: 9 [20000/60000 (33%)]\t1.566718\n",
            "Train Epoch: 9 [22000/60000 (37%)]\t1.549303\n",
            "Train Epoch: 9 [24000/60000 (40%)]\t1.526357\n",
            "Train Epoch: 9 [26000/60000 (43%)]\t1.513248\n",
            "Train Epoch: 9 [28000/60000 (47%)]\t1.530039\n",
            "Train Epoch: 9 [30000/60000 (50%)]\t1.547646\n",
            "Train Epoch: 9 [32000/60000 (53%)]\t1.529783\n",
            "Train Epoch: 9 [34000/60000 (57%)]\t1.563685\n",
            "Train Epoch: 9 [36000/60000 (60%)]\t1.553448\n",
            "Train Epoch: 9 [38000/60000 (63%)]\t1.550378\n",
            "Train Epoch: 9 [40000/60000 (67%)]\t1.554885\n",
            "Train Epoch: 9 [42000/60000 (70%)]\t1.524758\n",
            "Train Epoch: 9 [44000/60000 (73%)]\t1.514875\n",
            "Train Epoch: 9 [46000/60000 (77%)]\t1.503440\n",
            "Train Epoch: 9 [48000/60000 (80%)]\t1.520827\n",
            "Train Epoch: 9 [50000/60000 (83%)]\t1.557409\n",
            "Train Epoch: 9 [52000/60000 (87%)]\t1.528350\n",
            "Train Epoch: 9 [54000/60000 (90%)]\t1.538522\n",
            "Train Epoch: 9 [56000/60000 (93%)]\t1.519571\n",
            "Train Epoch: 9 [58000/60000 (97%)]\t1.502347\n",
            "\n",
            "Test set: Average loss: 0.0149, Accuracy 9676/10000 (97%\n",
            ")\n",
            "Train Epoch: 10 [0/60000 (0%)]\t1.555991\n",
            "Train Epoch: 10 [2000/60000 (3%)]\t1.529633\n",
            "Train Epoch: 10 [4000/60000 (7%)]\t1.545744\n",
            "Train Epoch: 10 [6000/60000 (10%)]\t1.546292\n",
            "Train Epoch: 10 [8000/60000 (13%)]\t1.484390\n",
            "Train Epoch: 10 [10000/60000 (17%)]\t1.537005\n",
            "Train Epoch: 10 [12000/60000 (20%)]\t1.575876\n",
            "Train Epoch: 10 [14000/60000 (23%)]\t1.566011\n",
            "Train Epoch: 10 [16000/60000 (27%)]\t1.563631\n",
            "Train Epoch: 10 [18000/60000 (30%)]\t1.558601\n",
            "Train Epoch: 10 [20000/60000 (33%)]\t1.534178\n",
            "Train Epoch: 10 [22000/60000 (37%)]\t1.559127\n",
            "Train Epoch: 10 [24000/60000 (40%)]\t1.523104\n",
            "Train Epoch: 10 [26000/60000 (43%)]\t1.493475\n",
            "Train Epoch: 10 [28000/60000 (47%)]\t1.531470\n",
            "Train Epoch: 10 [30000/60000 (50%)]\t1.559846\n",
            "Train Epoch: 10 [32000/60000 (53%)]\t1.545667\n",
            "Train Epoch: 10 [34000/60000 (57%)]\t1.528321\n",
            "Train Epoch: 10 [36000/60000 (60%)]\t1.522104\n",
            "Train Epoch: 10 [38000/60000 (63%)]\t1.519082\n",
            "Train Epoch: 10 [40000/60000 (67%)]\t1.520937\n",
            "Train Epoch: 10 [42000/60000 (70%)]\t1.507155\n",
            "Train Epoch: 10 [44000/60000 (73%)]\t1.526767\n",
            "Train Epoch: 10 [46000/60000 (77%)]\t1.524662\n",
            "Train Epoch: 10 [48000/60000 (80%)]\t1.503678\n",
            "Train Epoch: 10 [50000/60000 (83%)]\t1.505879\n",
            "Train Epoch: 10 [52000/60000 (87%)]\t1.585490\n",
            "Train Epoch: 10 [54000/60000 (90%)]\t1.521105\n",
            "Train Epoch: 10 [56000/60000 (93%)]\t1.525453\n",
            "Train Epoch: 10 [58000/60000 (97%)]\t1.524385\n",
            "\n",
            "Test set: Average loss: 0.0149, Accuracy 9691/10000 (97%\n",
            ")\n"
          ]
        }
      ]
    },
    {
      "cell_type": "code",
      "source": [
        "device"
      ],
      "metadata": {
        "colab": {
          "base_uri": "https://localhost:8080/"
        },
        "id": "F8uZ6ktxj-B6",
        "outputId": "ae379431-3542-404d-edaf-973c8aa8835a"
      },
      "execution_count": null,
      "outputs": [
        {
          "output_type": "execute_result",
          "data": {
            "text/plain": [
              "device(type='cpu')"
            ]
          },
          "metadata": {},
          "execution_count": 25
        }
      ]
    },
    {
      "cell_type": "code",
      "source": [
        "import matplotlib.pyplot as plt\n",
        "\n",
        "model.eval()\n",
        "\n",
        "data, target = test_data[9]\n",
        "\n",
        "data = data.unsqueeze(0).to(device)\n",
        "\n",
        "output = model(data)\n",
        "\n",
        "prediction = output.argmax(dim=1, keepdim=True).item()\n",
        "\n",
        "print(f'Predicyion: {prediction}')\n",
        "\n",
        "image = data.squeeze(0).squeeze(0).cpu().numpy()\n",
        "\n",
        "plt.imshow(image, cmap='gray')\n",
        "plt.show()"
      ],
      "metadata": {
        "colab": {
          "base_uri": "https://localhost:8080/",
          "height": 482
        },
        "id": "hoH1C-68mG7C",
        "outputId": "e39ca2a2-d88e-4a2a-df49-2b5ad86e234e"
      },
      "execution_count": null,
      "outputs": [
        {
          "output_type": "stream",
          "name": "stdout",
          "text": [
            "Predicyion: 9\n"
          ]
        },
        {
          "output_type": "stream",
          "name": "stderr",
          "text": [
            "<ipython-input-20-9cdf8ea09792>:25: UserWarning: Implicit dimension choice for softmax has been deprecated. Change the call to include dim=X as an argument.\n",
            "  return F.softmax(x)\n"
          ]
        },
        {
          "output_type": "display_data",
          "data": {
            "text/plain": [
              "<Figure size 640x480 with 1 Axes>"
            ],
            "image/png": "[encoded data removed]"
          },
          "metadata": {}
        }
      ]
    },
    {
      "cell_type": "code",
      "source": [],
      "metadata": {
        "id": "MGidkKSTmscc"
      },
      "execution_count": null,
      "outputs": []
    }
  ]
}